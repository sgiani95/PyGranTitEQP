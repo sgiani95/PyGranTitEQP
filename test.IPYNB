{
 "cells": [
  {
   "cell_type": "markdown",
   "id": "1ca16b36",
   "metadata": {},
   "source": [
    "**HELLO**"
   ]
  }
 ],
 "metadata": {
  "language_info": {
   "name": "python"
  }
 },
 "nbformat": 4,
 "nbformat_minor": 5
}
